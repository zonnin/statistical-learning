{
 "metadata": {
  "language_info": {
   "codemirror_mode": {
    "name": "ipython",
    "version": 3
   },
   "file_extension": ".py",
   "mimetype": "text/x-python",
   "name": "python",
   "nbconvert_exporter": "python",
   "pygments_lexer": "ipython3",
   "version": 3
  },
  "orig_nbformat": 2
 },
 "nbformat": 4,
 "nbformat_minor": 2,
 "cells": [
  {
   "cell_type": "markdown",
   "metadata": {},
   "source": [
    "# 第2章 感知机\n",
    "\n",
    "感知机模型\n",
    "\n",
    "$$f(x)=sign(w \\cdot x+b)$$\n",
    "\n",
    "其中\n",
    "\n",
    "$$x, w \\in R^2, b \\in R$$\n",
    "$$\n",
    "sign(x)=\\begin{cases}\n",
    "+1,& \\text{$x \\geqslant 0$}\\\\\n",
    "-1,& \\text{$x < 0$}\n",
    "\\end{cases}\n",
    "$$"
   ]
  },
  {
   "cell_type": "code",
   "execution_count": null,
   "metadata": {},
   "outputs": [],
   "source": []
  }
 ]
}