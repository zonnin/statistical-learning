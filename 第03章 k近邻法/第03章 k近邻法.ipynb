{
 "metadata": {
  "language_info": {
   "codemirror_mode": {
    "name": "ipython",
    "version": 3
   },
   "file_extension": ".py",
   "mimetype": "text/x-python",
   "name": "python",
   "nbconvert_exporter": "python",
   "pygments_lexer": "ipython3",
   "version": 3
  },
  "orig_nbformat": 2
 },
 "nbformat": 4,
 "nbformat_minor": 2,
 "cells": [
  {
   "cell_type": "markdown",
   "metadata": {},
   "source": [
    "# K邻近法\n",
    "\n",
    "对于新的实例，根据其 k 个最近邻的训练实例的类别的，通过多数表决等方式进行预测\n",
    "\n",
    "K邻近法的三个基本要素：\n",
    "\n",
    "* k 值的选择\n",
    "* 距离量度\n",
    "* 分类决策规则\n",
    "\n",
    "## 算法\n",
    "\n",
    "输入：训练数据集 $T = \\{(x_{1}, y_{1}),(x_{2}, y_{2}),\\ldots,(x_{N}, y_{N})\\}$\n",
    "\n",
    "输出：实例 x 所属的类 y\n",
    "\n",
    "（1）根据给定的*距离度量*，在训练集 T 中找出与 x 最邻近的 k 个点，记作 $N_{k}(x)$\n",
    "\n",
    "（2）在 $N_{k}(x)$ 中根据*分类决策规则*（如多数表决）决定 x 的类别 y\n",
    "\n",
    "K邻近法没有学习过程"
   ]
  },
  {
   "cell_type": "markdown",
   "metadata": {},
   "source": [
    "## 距离度量\n",
    "\n",
    "一般使用的距离是欧氏距离，也可以是更一般的 $L_{p}$ 距离或 Minkowski 距离\n",
    "\n",
    "$$\n",
    "L_{p}(x_{i},x_{j}) = (\\sum_{l=1}^{n}|x_{i}^{(l)}-x_{j}^{(l)}|^{p})^{1/p}\n",
    "$$\n",
    "\n",
    "当 $p = 2$ 时，称为欧式距离\n",
    "\n",
    "当 $p = 1$ 时，称为曼哈顿距离\n",
    "\n",
    "当 $p = \\infty$ 时，是各个坐标距离的最大值\n",
    "\n",
    "## k 值的选择\n",
    "\n",
    "k 值的减小意味着整体模型变得复杂，容易发生过拟合\n",
    "\n",
    "## 分类决策规则\n",
    "\n",
    "往往是多数表决"
   ]
  },
  {
   "cell_type": "code",
   "execution_count": null,
   "metadata": {},
   "outputs": [],
   "source": []
  }
 ]
}