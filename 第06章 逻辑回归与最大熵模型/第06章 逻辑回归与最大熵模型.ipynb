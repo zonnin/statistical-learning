{
 "metadata": {
  "language_info": {
   "codemirror_mode": {
    "name": "ipython",
    "version": 3
   },
   "file_extension": ".py",
   "mimetype": "text/x-python",
   "name": "python",
   "nbconvert_exporter": "python",
   "pygments_lexer": "ipython3",
   "version": 3
  },
  "orig_nbformat": 2
 },
 "nbformat": 4,
 "nbformat_minor": 2,
 "cells": [
  {
   "cell_type": "markdown",
   "metadata": {},
   "source": [
    "# 第6章 逻辑回归与最大熵模型"
   ]
  },
  {
   "cell_type": "markdown",
   "metadata": {},
   "source": [
    "## 逻辑回归模型\n",
    "\n",
    "### 逻辑分布\n",
    "\n",
    "首先介绍逻辑分布的定义为：设 $X$ 是连续随机变量，$X$ 服从逻辑分布是指 $X$ 具有下列分布函数和密度函数\n",
    "\n",
    "$$\n",
    "F(x) = P(X\\lt x) = \\frac{1}{1+e^{-(x-\\mu)/\\gamma}}\n",
    "$$\n",
    "\n",
    "$$\n",
    "f(x) = F^{'}(x) = \\frac{e^{-(x-\\mu)/\\gamma}}{\\gamma(1+e^{-(x-\\mu)/\\gamma})^{2}}\n",
    "$$\n",
    "\n",
    "其中，$\\mu$ 为位置参数，$\\gamma > 0$ 为形状参数\n",
    "\n",
    "其分布函数的图形是一条 S 形曲线，该曲线以点 $(\\mu,\\frac{1}{2})$ 为中心对称，形状参数 $\\gamma$ 的值越小，曲线在中心附近增长得越快\n",
    "\n",
    "### 二项逻辑回归模型\n",
    "\n",
    "二项逻辑回归定义，设定如下的条件概率：\n",
    "\n",
    "$$\n",
    "\\begin{align}\n",
    "P(Y=1|x) &= \\frac{1}{1+e^{-(w\\cdot x +b)}}\\\\\n",
    "&= \\frac{e^{w\\cdot x +b}}{1+e^{w\\cdot x +b}}\n",
    "\\end{align}\n",
    "$$\n",
    "\n",
    "$$\n",
    "P(Y=0|x) = \\frac{1}{1+e^{w\\cdot x +b}}\n",
    "$$\n",
    "\n",
    "在形式上，$P(Y=1|x)$ 与逻辑分布的分布函数相似，但是可以认为之所以使用这种形式，只是为了将值域为 $(-\\infty,\\infty)$ 的 $w\\cdot x +b$ 映射到合理的概率值 $(0,1)$\n",
    "\n",
    "如果一定要说逻辑回归中 $P(Y=1|x)$ 跟逻辑分布有什么联系，可以认为 $P(Y=1|x)$ 中表示的给定 $x$ 条件下 $Y=1$ 的情况，受到一个隐含的随机变量影响，可以设这个随机变量为 $\\theta$，并且假设这个随机变量符合逻辑分布，而且假设当 $\\theta \\le C$ 时，会有 $Y=1$，也就是\n",
    "\n",
    "$$\n",
    "P(Y=1|x) = P(\\theta \\le C) = \\frac{1}{1+e^{-C}}，为了简化，使 \\mu=0, \\gamma=1\n",
    "$$\n",
    "\n",
    "这里的 $C$ 如何确定呢，因为 $Y=1$ 是在给定 $x$ 的前提下的条件概率，所以 $C$ 应该由 $x$ 确定，最直接的确定方式就是 $C = w\\cdot x+b$，代入，就可以得到\n",
    "\n",
    "$$\n",
    "P(Y=1|x) = P(\\theta \\le (w\\cdot x+b)) = \\frac{1}{1+e^{-(w\\cdot x+b)}}\n",
    "$$\n",
    "\n",
    "因为这里使用了一个假设：$P(Y=1|x)$ 中隐含的随机变量 $\\theta$ 是符合逻辑分布的，所以这种对 $P(Y=1|x)$ 进行回归的模型被称为逻辑回归模型"
   ]
  },
  {
   "cell_type": "code",
   "execution_count": null,
   "metadata": {},
   "outputs": [],
   "source": []
  }
 ]
}